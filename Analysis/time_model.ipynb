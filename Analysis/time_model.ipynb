{
 "cells": [
  {
   "cell_type": "code",
   "execution_count": 1,
   "id": "7812ef76-0c61-4893-8ecf-137fbbbc7ee7",
   "metadata": {
    "tags": []
   },
   "outputs": [],
   "source": [
    "%load_ext autoreload\n",
    "%autoreload 2"
   ]
  },
  {
   "cell_type": "code",
   "execution_count": 2,
   "id": "fe2ef0ef-59a4-4aff-a6f1-77f5c3438eb5",
   "metadata": {
    "tags": []
   },
   "outputs": [],
   "source": [
    "import os\n",
    "import time\n",
    "import numpy as np\n",
    "from scipy.stats import entropy\n",
    "from sklearn.metrics import r2_score\n",
    "import torch\n",
    "import torch.nn as nn\n",
    "import torch.utils.data as data\n",
    "from torch.utils.data import DataLoader\n",
    "import matplotlib.pyplot as plt"
   ]
  },
  {
   "cell_type": "code",
   "execution_count": null,
   "id": "391cb5de",
   "metadata": {},
   "outputs": [],
   "source": [
    "from time_model_utils import *"
   ]
  },
  {
   "cell_type": "code",
   "execution_count": 3,
   "id": "3cc49c84-82d1-48cc-b941-582cc3ef35d1",
   "metadata": {
    "tags": []
   },
   "outputs": [],
   "source": [
    "class LSTMModel1(nn.Module):\n",
    "    # basic one with two linear layers and final output with sigmoid\n",
    "    def __init__(self, input_size=8258, hidden_size=1024, num_layers=1):\n",
    "        super().__init__()\n",
    "        self.input_size = input_size\n",
    "        self.num_layers = num_layers\n",
    "        self.hidden_size = hidden_size\n",
    "        self.lstm = nn.LSTM(input_size, hidden_size, batch_first=True, dropout=0, num_layers=num_layers)\n",
    "        self.fc1 = nn.Linear(hidden_size, 4000)\n",
    "        self.fc2 = nn.Linear(4000, 4000)\n",
    "        self.fc3 = nn.Linear(4000, input_size)\n",
    "        self.relu = nn.ReLU()\n",
    "        \n",
    "    def forward(self, x):\n",
    "        # hidden state\n",
    "        h_0 = torch.zeros(self.num_layers * 1, x.size(0), self.hidden_size).to(x.device)  # Modified line\n",
    "        # cell state\n",
    "        c_0 = torch.zeros(self.num_layers * 1, x.size(0), self.hidden_size).to(x.device)  # Modified line\n",
    "        # x = x.float()\n",
    "        out, (hn, cn) = self.lstm(x, (h_0, c_0))\n",
    "        out = self.fc1(out[:, -1, :])\n",
    "        out = self.relu(out)\n",
    "        out = self.fc3(out)\n",
    "        out = torch.sigmoid(out)\n",
    "\n",
    "        return out"
   ]
  },
  {
   "cell_type": "code",
   "execution_count": 4,
   "id": "8be39944-4caf-40e6-b9f9-257ccc495017",
   "metadata": {
    "tags": []
   },
   "outputs": [],
   "source": [
    "data_dir = \"/sdf/group/lcls/ds/scratch/s2e_scratch/Data/SFG_intPhEn/version2\""
   ]
  },
  {
   "cell_type": "code",
   "execution_count": 5,
   "id": "4cb19f14-0d43-4adc-baf9-a28efeb5f11a",
   "metadata": {
    "tags": []
   },
   "outputs": [],
   "source": [
    "model = LSTMModel1(num_layers=1, input_size=8267)"
   ]
  },
  {
   "cell_type": "code",
   "execution_count": 13,
   "id": "b84f6877-a0c3-4bb2-8ac8-ed2a46567683",
   "metadata": {
    "tags": []
   },
   "outputs": [],
   "source": [
    "test_dataset = CustomSequenceTiming(data_dir, range(90,100), prefix=\"X_new\")"
   ]
  },
  {
   "cell_type": "code",
   "execution_count": 14,
   "id": "a62877dd-1920-4617-aae6-251d141ed781",
   "metadata": {
    "tags": []
   },
   "outputs": [
    {
     "data": {
      "text/plain": [
       "(1000, 10, 8267)"
      ]
     },
     "execution_count": 14,
     "metadata": {},
     "output_type": "execute_result"
    }
   ],
   "source": [
    "test_dataset.shape"
   ]
  },
  {
   "cell_type": "code",
   "execution_count": 15,
   "id": "893feab3-8e71-4acb-9a9f-3e623039e75b",
   "metadata": {
    "tags": []
   },
   "outputs": [
    {
     "name": "stdout",
     "output_type": "stream",
     "text": [
      "Predicting batch 1/5\n",
      "iter 0\n",
      "iter 10\n",
      "iter 20\n",
      "iter 30\n",
      "iter 40\n",
      "iter 50\n",
      "iter 60\n",
      "iter 70\n",
      "iter 80\n",
      "iter 90\n",
      "Predicting batch 1/5\n",
      "iter 0\n",
      "iter 10\n",
      "iter 20\n",
      "iter 30\n",
      "iter 40\n",
      "iter 50\n",
      "iter 60\n",
      "iter 70\n",
      "iter 80\n",
      "iter 90\n",
      "Predicting batch 1/5\n",
      "iter 0\n",
      "iter 10\n",
      "iter 20\n",
      "iter 30\n",
      "iter 40\n",
      "iter 50\n",
      "iter 60\n",
      "iter 70\n",
      "iter 80\n",
      "iter 90\n",
      "Predicting batch 1/5\n",
      "iter 0\n",
      "iter 10\n",
      "iter 20\n",
      "iter 30\n",
      "iter 40\n",
      "iter 50\n",
      "iter 60\n",
      "iter 70\n",
      "iter 80\n",
      "iter 90\n",
      "Predicting batch 1/5\n",
      "iter 0\n",
      "iter 10\n",
      "iter 20\n",
      "iter 30\n",
      "iter 40\n",
      "iter 50\n",
      "iter 60\n",
      "iter 70\n",
      "iter 80\n",
      "iter 90\n"
     ]
    }
   ],
   "source": [
    "preds, time_elapsed = time_prediction(model, model_param_path=\"/sdf/group/lcls/ds/scratch/s2e_scratch/Data/SFG_RNN_0602/model1_intPhEn/model_epoch_29.pth\", test_dataset=test_dataset, batch_size=200, use_gpu=True, data_parallel=False, verbose=1)"
   ]
  },
  {
   "cell_type": "code",
   "execution_count": 16,
   "id": "399074ea-9bc6-4bc3-b28a-faed1228abd9",
   "metadata": {
    "tags": []
   },
   "outputs": [
    {
     "data": {
      "text/plain": [
       "8.417204856872559"
      ]
     },
     "execution_count": 16,
     "metadata": {},
     "output_type": "execute_result"
    }
   ],
   "source": [
    "time_elapsed"
   ]
  },
  {
   "cell_type": "code",
   "execution_count": null,
   "id": "964c97ed-cf32-4d34-85f3-65e61c2736ee",
   "metadata": {},
   "outputs": [],
   "source": []
  }
 ],
 "metadata": {
  "kernelspec": {
   "display_name": "Python 3",
   "language": "python",
   "name": "python3"
  },
  "language_info": {
   "codemirror_mode": {
    "name": "ipython",
    "version": 3
   },
   "file_extension": ".py",
   "mimetype": "text/x-python",
   "name": "python",
   "nbconvert_exporter": "python",
   "pygments_lexer": "ipython3",
   "version": "3.10.8"
  },
  "vscode": {
   "interpreter": {
    "hash": "15a3a1d02b16c5f0f7818f79310520e3bf618f6f01b420b9dd242659c73da7ae"
   }
  }
 },
 "nbformat": 4,
 "nbformat_minor": 5
}
