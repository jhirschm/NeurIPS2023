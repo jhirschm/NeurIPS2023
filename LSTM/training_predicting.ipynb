{
 "cells": [
  {
   "cell_type": "code",
   "execution_count": null,
   "metadata": {
    "tags": []
   },
   "outputs": [],
   "source": [
    "%load_ext autoreload\n",
    "%autoreload 2"
   ]
  },
  {
   "cell_type": "code",
   "execution_count": null,
   "metadata": {
    "tags": []
   },
   "outputs": [],
   "source": [
    "from train_predict_utils import *"
   ]
  },
  {
   "cell_type": "code",
   "execution_count": null,
   "metadata": {
    "tags": []
   },
   "outputs": [],
   "source": [
    "class LSTMModel1(nn.Module): \n",
    "    # basic one with two linear layers and final output with sigmoid\n",
    "    def __init__(self, input_size, hidden_size=1024, num_layers=1):\n",
    "        super().__init__()\n",
    "        self.input_size = input_size\n",
    "        self.num_layers = num_layers\n",
    "        self.hidden_size = hidden_size\n",
    "        self.lstm = nn.LSTM(input_size, hidden_size,\n",
    "                            batch_first=True, dropout=0, num_layers=num_layers)\n",
    "        self.fc1 = nn.Linear(hidden_size, 4000)\n",
    "        self.fc2 = nn.Linear(4000, 4000)\n",
    "        self.fc3 = nn.Linear(4000, input_size)\n",
    "        self.relu = nn.ReLU()\n",
    "\n",
    "    def forward(self, x):\n",
    "        # hidden state\n",
    "        h_0 = torch.zeros(self.num_layers * 1, x.size(0),\n",
    "                          self.hidden_size).to(x.device)  # Modified line\n",
    "        # cell state\n",
    "        c_0 = torch.zeros(self.num_layers * 1, x.size(0),\n",
    "                          self.hidden_size).to(x.device)  # Modified line\n",
    "\n",
    "        out, (hn, cn) = self.lstm(x, (h_0, c_0))\n",
    "        out = self.fc1(out[:, -1, :])\n",
    "        out = self.relu(out)\n",
    "        out = self.fc3(out)\n",
    "        out = torch.sigmoid(out)\n",
    "\n",
    "        return out\n"
   ]
  },
  {
   "cell_type": "code",
   "execution_count": null,
   "metadata": {
    "tags": []
   },
   "outputs": [],
   "source": [
    "data_dir = \"/sdf/group/lcls/ds/scratch/s2e_scratch/Data/SFG_reIm/version1\"\n",
    "train_dataset = CustomSequence(data_dir, range(80), file_batch_size=1, model_batch_size=512)\n",
    "val_dataset = CustomSequence(data_dir, range(80, 81), file_batch_size=1, model_batch_size=512)\n"
   ]
  },
  {
   "cell_type": "code",
   "execution_count": null,
   "metadata": {
    "tags": []
   },
   "outputs": [],
   "source": [
    "model = LSTMModel1(input_size=8264)"
   ]
  },
  {
   "cell_type": "code",
   "execution_count": null,
   "metadata": {
    "tags": []
   },
   "outputs": [],
   "source": [
    "train(model, train_dataset, num_epochs=10, val_dataset=val_dataset, use_gpu=True, data_parallel=True, out_dir=\".\", model_name=\"model\", verbose=1, save_checkpoints=True, custom_loss=None)"
   ]
  },
  {
   "cell_type": "code",
   "execution_count": null,
   "metadata": {
    "tags": []
   },
   "outputs": [],
   "source": [
    "test_dataset = CustomSequence(data_dir, range(90, 92), file_batch_size=1, model_batch_size=512, test_mode=True)"
   ]
  },
  {
   "cell_type": "code",
   "execution_count": null,
   "metadata": {
    "tags": []
   },
   "outputs": [],
   "source": [
    "predict(model, model_param_path=\"model_epoch_2.pth\", test_dataset=test_dataset, use_gpu=True, data_parallel=False, output_dir=\".\", output_name=\"all_preds.npy\", verbose=1)"
   ]
  },
  {
   "cell_type": "code",
   "execution_count": null,
   "metadata": {},
   "outputs": [],
   "source": []
  }
 ],
 "metadata": {
  "kernelspec": {
   "display_name": "Python 3 (ipykernel)",
   "language": "python",
   "name": "python3"
  },
  "language_info": {
   "codemirror_mode": {
    "name": "ipython",
    "version": 3
   },
   "file_extension": ".py",
   "mimetype": "text/x-python",
   "name": "python",
   "nbconvert_exporter": "python",
   "pygments_lexer": "ipython3",
   "version": "3.10.8"
  },
  "vscode": {
   "interpreter": {
    "hash": "15a3a1d02b16c5f0f7818f79310520e3bf618f6f01b420b9dd242659c73da7ae"
   }
  }
 },
 "nbformat": 4,
 "nbformat_minor": 4
}
