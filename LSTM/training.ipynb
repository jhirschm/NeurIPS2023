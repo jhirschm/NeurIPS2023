{
 "cells": [
  {
   "cell_type": "code",
   "execution_count": 5,
   "metadata": {
    "tags": []
   },
   "outputs": [],
   "source": [
    "%load_ext autoreload\n",
    "%autoreload 2"
   ]
  },
  {
   "cell_type": "code",
   "execution_count": 1,
   "metadata": {
    "tags": []
   },
   "outputs": [],
   "source": [
    "from train_utils import *"
   ]
  },
  {
   "cell_type": "code",
   "execution_count": 21,
   "metadata": {
    "tags": []
   },
   "outputs": [],
   "source": [
    "class LSTMModel(nn.Module):\n",
    "    def __init__(self, input_size=8264, hidden_size=4096):\n",
    "        super().__init__()\n",
    "        self.lstm1 = nn.LSTM(input_size, 3, num_layers=1, batch_first=True)\n",
    "        self.fc1 = nn.Linear(3, 1)\n",
    "        self.fc2 = nn.Linear(1, input_size)\n",
    "\n",
    "    def forward(self, x):\n",
    "        batch_size = x.size(0)\n",
    "        out, _ = self.lstm1(x)\n",
    "        # out = out.contiguous().view(batch_size, -1)\n",
    "        # out = self.fc1(out)\n",
    "        out = self.fc1(out[:, -1, :])\n",
    "        out = nn.functional.relu(out)\n",
    "        out = torch.tanh(self.fc2(out))\n",
    "\n",
    "        return out"
   ]
  },
  {
   "cell_type": "code",
   "execution_count": 27,
   "metadata": {
    "tags": []
   },
   "outputs": [],
   "source": [
    "data_dir = \"/sdf/group/lcls/ds/scratch/s2e_scratch/Data/SFG_reIm/version1\"\n",
    "train_dataset = CustomSequence(data_dir, range(80), file_batch_size=1, model_batch_size=512)\n",
    "val_dataset = CustomSequence(data_dir, range(80, 81), file_batch_size=1, model_batch_size=512)\n"
   ]
  },
  {
   "cell_type": "code",
   "execution_count": 28,
   "metadata": {
    "tags": []
   },
   "outputs": [],
   "source": [
    "model = LSTMModel()"
   ]
  },
  {
   "cell_type": "code",
   "execution_count": 29,
   "metadata": {
    "tags": []
   },
   "outputs": [
    {
     "name": "stdout",
     "output_type": "stream",
     "text": [
      "Using 4 GPUs!\n",
      "Epoch 1\n",
      "haha\n",
      "haha\n",
      "haha\n",
      "haha\n",
      "haha\n",
      "Epoch 1: Train Loss=0.217423045271635057, Val Loss=0.188546876859664925\n",
      "Epoch 2\n",
      "haha\n",
      "haha\n",
      "haha\n",
      "haha\n",
      "haha\n",
      "Epoch 2: Train Loss=0.166685538816452039, Val Loss=0.145247697424888605\n"
     ]
    },
    {
     "ename": "SystemExit",
     "evalue": "0",
     "output_type": "error",
     "traceback": [
      "An exception has occurred, use %tb to see the full traceback.\n",
      "\u001b[0;31mSystemExit\u001b[0m\u001b[0;31m:\u001b[0m 0\n"
     ]
    },
    {
     "name": "stderr",
     "output_type": "stream",
     "text": [
      "/sdf/home/w/wmy/.local/lib/python3.8/site-packages/IPython/core/interactiveshell.py:3468: UserWarning: To exit: use 'exit', 'quit', or Ctrl-D.\n",
      "  warn(\"To exit: use 'exit', 'quit', or Ctrl-D.\", stacklevel=1)\n"
     ]
    }
   ],
   "source": [
    "train(model, train_dataset, num_epochs=10, val_dataset=val_dataset, use_gpu=True, data_parallel=True, out_dir=\".\", model_name=\"model\", verbose=1, save_checkpoints=True, custom_loss=None)"
   ]
  },
  {
   "cell_type": "code",
   "execution_count": 41,
   "metadata": {
    "tags": []
   },
   "outputs": [],
   "source": [
    "test_dataset = CustomSequence(data_dir, range(90, 92), file_batch_size=1, model_batch_size=512, test_mode=True)\n"
   ]
  },
  {
   "cell_type": "code",
   "execution_count": 42,
   "metadata": {
    "tags": []
   },
   "outputs": [
    {
     "name": "stdout",
     "output_type": "stream",
     "text": [
      "Predicting batch 1/2\n",
      "Predicting batch 2/2\n"
     ]
    }
   ],
   "source": [
    "predict(model, model_param_path=\"model_epoch_2.pth\", test_dataset=test_dataset, use_gpu=True, data_parallel=False, output_dir=\".\", output_name=\"all_preds.npy\", verbose=1)"
   ]
  },
  {
   "cell_type": "code",
   "execution_count": 44,
   "metadata": {
    "tags": []
   },
   "outputs": [
    {
     "data": {
      "text/plain": [
       "(200, 8264)"
      ]
     },
     "execution_count": 44,
     "metadata": {},
     "output_type": "execute_result"
    }
   ],
   "source": [
    "np.load(\"all_preds.npy.npy\").shape"
   ]
  },
  {
   "cell_type": "code",
   "execution_count": null,
   "metadata": {},
   "outputs": [],
   "source": []
  }
 ],
 "metadata": {
  "kernelspec": {
   "display_name": "Python 3 (ipykernel)",
   "language": "python",
   "name": "python3"
  },
  "language_info": {
   "codemirror_mode": {
    "name": "ipython",
    "version": 3
   },
   "file_extension": ".py",
   "mimetype": "text/x-python",
   "name": "python",
   "nbconvert_exporter": "python",
   "pygments_lexer": "ipython3",
   "version": "3.8.12"
  },
  "vscode": {
   "interpreter": {
    "hash": "15a3a1d02b16c5f0f7818f79310520e3bf618f6f01b420b9dd242659c73da7ae"
   }
  }
 },
 "nbformat": 4,
 "nbformat_minor": 4
}
