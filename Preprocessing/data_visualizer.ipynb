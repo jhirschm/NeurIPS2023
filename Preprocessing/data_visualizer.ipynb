{
 "cells": [
  {
   "cell_type": "code",
   "execution_count": 2,
   "id": "6f5537b7",
   "metadata": {},
   "outputs": [],
   "source": [
    "import pandas as pd\n",
    "import numpy as np\n",
    "import glob, os\n",
    "from util import *\n",
    "from sklearn.preprocessing import MinMaxScaler\n",
    "import pickle\n",
    "import matplotlib\n",
    "matplotlib.rcParams['pdf.fonttype'] = 42\n",
    "matplotlib.rcParams['ps.fonttype'] = 42\n",
    "import matplotlib.pyplot as plt"
   ]
  },
  {
   "cell_type": "code",
   "execution_count": 4,
   "id": "07ee81cf",
   "metadata": {},
   "outputs": [],
   "source": [
    "freq_vectors_shg1 = np.load(\n",
    "    \"../Data/shg_freq_domain_ds.npy\")\n",
    "freq_vectors_shg2 = freq_vectors_shg1 # these are equivalent here\n",
    "freq_vectors_sfg = np.load(\n",
    "    \"../Data/sfg_freq_domain_ds.npy\")\n",
    "\n",
    "domain_spacing_1 = (freq_vectors_shg1[1] - freq_vectors_shg1[0]) * 1e12 #scaled to be back in Hz\n",
    "domain_spacing_2 = (freq_vectors_shg2[1] - freq_vectors_shg2[0]) * 1e12\n",
    "domain_spacing_3 = (freq_vectors_sfg[1] - freq_vectors_sfg[0]) * 1e12\n",
    "\n",
    "factors_freq = {\"beam_area\": 400e-6 ** 2 * np.pi,\n",
    "                \"grid_spacing\": [domain_spacing_1, domain_spacing_2, domain_spacing_3],\n",
    "                \"domain_spacing_1\": domain_spacing_1, \"domain_spacing_2\": domain_spacing_2,\n",
    "                \"domain_spacing_3\": domain_spacing_3} #beam radius 400 um (and circular beam)\n",
    "\n",
    "output_dir = \"/sdf/group/lcls/ds/scratch/s2e_scratch/Data/SFG_intPhEn/test\" #this is where you just saved data to"
   ]
  },
  {
   "cell_type": "code",
   "execution_count": null,
   "id": "4e7eb0a7",
   "metadata": {},
   "outputs": [],
   "source": []
  }
 ],
 "metadata": {
  "kernelspec": {
   "display_name": "Python 3",
   "language": "python",
   "name": "python3"
  },
  "language_info": {
   "codemirror_mode": {
    "name": "ipython",
    "version": 3
   },
   "file_extension": ".py",
   "mimetype": "text/x-python",
   "name": "python",
   "nbconvert_exporter": "python",
   "pygments_lexer": "ipython3",
   "version": "3.8.12"
  }
 },
 "nbformat": 4,
 "nbformat_minor": 5
}
