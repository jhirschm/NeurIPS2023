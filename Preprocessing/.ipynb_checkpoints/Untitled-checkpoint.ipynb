{
 "cells": [
  {
   "cell_type": "code",
   "execution_count": 2,
   "id": "2eb1654f",
   "metadata": {},
   "outputs": [],
   "source": [
    "import pandas as pd\n",
    "import numpy as np\n",
    "import glob, os\n",
    "from util import *\n",
    "from sklearn.preprocessing import MinMaxScaler\n",
    "import pickle"
   ]
  },
  {
   "cell_type": "code",
   "execution_count": null,
   "id": "1b3a9858",
   "metadata": {},
   "outputs": [],
   "source": [
    "def concatenate_arrays(*arrays):\n",
    "    return np.concatenate(arrays, axis=None)\n",
    "\n",
    "\n",
    "def re_im_concat(shg1, shg2, sfg):\n",
    "    vector = concatenate_arrays(np.real(shg1), np.real(shg2), np.real(sfg), np.imag(shg1), np.imag(shg2), np.imag(sfg))\n",
    "    return vector\n",
    "\n",
    "\n",
    "def split_and_concatenate(fields, scaling_factors, normalize_intensity==True, normalize_phase == True):\n",
    "    energy_out = np.array([])\n",
    "    intensity_out = np.array([])\n",
    "    phase_out = np.array([])\n",
    "    i = 0\n",
    "    for field in fields:\n",
    "        intensity = get_intensity(field)\n",
    "        phase = get_phase(field)\n",
    "        energy = calc_energy_expanded(field, scaling_factors[\"grid_spacing\"][i], scaling_factors[\"beam_area\"])\n",
    "\n",
    "        energy_out = concatenate_arrays(energy_out, energy)\n",
    "\n",
    "        int_factor = np.max(intensity)\n",
    "        if (int_factor == 0 or normalize_intensity==False):\n",
    "            intensity = intensity\n",
    "        else:\n",
    "            intensity = intensity / int_factor\n",
    "        intensity_out = concatenate_arrays(intensity_out, intensity)\n",
    "        \n",
    "        if normalize_phase:\n",
    "            phase_out = concatenate_arrays(phase_out, phase / np.pi)\n",
    "        phase_out = concatenate_arrays(phase_out, phase)\n",
    "        i += 1\n",
    "    return concatenate_arrays(intensity_out, phase_out, energy_out)\n",
    "\n"
   ]
  }
 ],
 "metadata": {
  "kernelspec": {
   "display_name": "Python 3",
   "language": "python",
   "name": "python3"
  },
  "language_info": {
   "codemirror_mode": {
    "name": "ipython",
    "version": 3
   },
   "file_extension": ".py",
   "mimetype": "text/x-python",
   "name": "python",
   "nbconvert_exporter": "python",
   "pygments_lexer": "ipython3",
   "version": "3.8.12"
  }
 },
 "nbformat": 4,
 "nbformat_minor": 5
}
